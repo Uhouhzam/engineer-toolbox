{
 "cells": [
  {
   "cell_type": "markdown",
   "id": "f0fc847a",
   "metadata": {},
   "source": [
    "An algorithm to generate isochrones i.e. the area accessible in public transportation from a given point (latitude + longitude) and date during a given time. \n",
    "Data generated thanks to Navitia API http://doc.navitia.io/#isochrones-currently-in-beta"
   ]
  },
  {
   "cell_type": "markdown",
   "id": "ce3cd9ed",
   "metadata": {},
   "source": [
    "### Importing libraries"
   ]
  },
  {
   "cell_type": "code",
   "execution_count": 4,
   "id": "cd337fa9",
   "metadata": {},
   "outputs": [],
   "source": [
    "import requests\n",
    "import pandas as pd\n",
    "import os\n",
    "import json\n"
   ]
  },
  {
   "cell_type": "markdown",
   "id": "01d28f91",
   "metadata": {},
   "source": [
    "### Path and API access"
   ]
  },
  {
   "cell_type": "markdown",
   "id": "e718d8c5",
   "metadata": {},
   "source": [
    "First, you have to create an account in https://navitia.io/ to generate a token"
   ]
  },
  {
   "cell_type": "code",
   "execution_count": null,
   "id": "a68af5ec",
   "metadata": {},
   "outputs": [],
   "source": [
    "df = pd.read_csv('path_to_data',sep=',',encoding='1252')\n",
    "\n",
    "outputpath = 'folder containing JSON outputs'\n",
    "\n",
    "boundary_duration =[3000] #Set the different periods en seconds \n",
    "\n",
    "token= '' #the token to be used to access the API (account creation mandatory)\n",
    "\n",
    "head = {'Authorization': token} "
   ]
  },
  {
   "cell_type": "markdown",
   "id": "cddc70ab",
   "metadata": {},
   "source": [
    "Specify the date you wish so the isochrone takes it into account"
   ]
  },
  {
   "cell_type": "code",
   "execution_count": null,
   "id": "e8f31fa2",
   "metadata": {
    "scrolled": true
   },
   "outputs": [],
   "source": [
    "date = input(\"Enter a date (YYYYMMDD):\")\n",
    "print(\"Date is: \" + date)\n",
    "mydate= date+'T000000'\n",
    "print(mydate)"
   ]
  },
  {
   "cell_type": "markdown",
   "id": "9f0b01df",
   "metadata": {},
   "source": [
    "Run the cell !"
   ]
  },
  {
   "cell_type": "code",
   "execution_count": null,
   "id": "d77e566c",
   "metadata": {},
   "outputs": [],
   "source": [
    "for longitude, latitude,result_city in (zip(df.longitude,df.latitude,df.result_city)):\n",
    "    print(longitude, latitude,result_city)\n",
    "    url = 'https://api.navitia.io/v1/coverage/fr-idf/isochrones?from='+str(longitude)+';'+str(latitude)+'&boundary_duration[]='+str(boundary_duration[0])#+'&boundary_duration[]='+str(boundary_duration[1])#+'&boundary_duration[]='+str(boundary_duration[2])+'&boundary_duration[]='+str(boundary_duration[3])\n",
    "    response = requests.get(url,headers=head)\n",
    "    response = response.json()\n",
    "    if len(response)>1:\n",
    "        response = response['isochrones']\n",
    "        for bound in range(len(boundary_duration)):\n",
    "            print(bound)\n",
    "            mygeojson = response[bound]['geojson']\n",
    "            with open(os.path.join(outputpath, 'iso_Navitia_'+str(boundary_duration[bound])+'_'+result_city+'.json'), 'w')  as f:\n",
    "                f.write(json.dumps(mygeojson))"
   ]
  },
  {
   "cell_type": "markdown",
   "id": "f9a56b86",
   "metadata": {},
   "source": [
    "Isochrones have been generated in JSON format ! "
   ]
  }
 ],
 "metadata": {
  "kernelspec": {
   "display_name": "Python 3 (ipykernel)",
   "language": "python",
   "name": "python3"
  },
  "language_info": {
   "codemirror_mode": {
    "name": "ipython",
    "version": 3
   },
   "file_extension": ".py",
   "mimetype": "text/x-python",
   "name": "python",
   "nbconvert_exporter": "python",
   "pygments_lexer": "ipython3",
   "version": "3.10.4"
  }
 },
 "nbformat": 4,
 "nbformat_minor": 5
}
